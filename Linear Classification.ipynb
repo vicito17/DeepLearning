{
 "cells": [
  {
   "cell_type": "code",
   "execution_count": 1,
   "metadata": {},
   "outputs": [
    {
     "name": "stderr",
     "output_type": "stream",
     "text": [
      "/home/vicentecipre/miniconda3/envs/prueba/lib/python3.7/site-packages/tensorflow/python/framework/dtypes.py:516: FutureWarning: Passing (type, 1) or '1type' as a synonym of type is deprecated; in a future version of numpy, it will be understood as (type, (1,)) / '(1,)type'.\n",
      "  _np_qint8 = np.dtype([(\"qint8\", np.int8, 1)])\n",
      "/home/vicentecipre/miniconda3/envs/prueba/lib/python3.7/site-packages/tensorflow/python/framework/dtypes.py:517: FutureWarning: Passing (type, 1) or '1type' as a synonym of type is deprecated; in a future version of numpy, it will be understood as (type, (1,)) / '(1,)type'.\n",
      "  _np_quint8 = np.dtype([(\"quint8\", np.uint8, 1)])\n",
      "/home/vicentecipre/miniconda3/envs/prueba/lib/python3.7/site-packages/tensorflow/python/framework/dtypes.py:518: FutureWarning: Passing (type, 1) or '1type' as a synonym of type is deprecated; in a future version of numpy, it will be understood as (type, (1,)) / '(1,)type'.\n",
      "  _np_qint16 = np.dtype([(\"qint16\", np.int16, 1)])\n",
      "/home/vicentecipre/miniconda3/envs/prueba/lib/python3.7/site-packages/tensorflow/python/framework/dtypes.py:519: FutureWarning: Passing (type, 1) or '1type' as a synonym of type is deprecated; in a future version of numpy, it will be understood as (type, (1,)) / '(1,)type'.\n",
      "  _np_quint16 = np.dtype([(\"quint16\", np.uint16, 1)])\n",
      "/home/vicentecipre/miniconda3/envs/prueba/lib/python3.7/site-packages/tensorflow/python/framework/dtypes.py:520: FutureWarning: Passing (type, 1) or '1type' as a synonym of type is deprecated; in a future version of numpy, it will be understood as (type, (1,)) / '(1,)type'.\n",
      "  _np_qint32 = np.dtype([(\"qint32\", np.int32, 1)])\n",
      "/home/vicentecipre/miniconda3/envs/prueba/lib/python3.7/site-packages/tensorflow/python/framework/dtypes.py:525: FutureWarning: Passing (type, 1) or '1type' as a synonym of type is deprecated; in a future version of numpy, it will be understood as (type, (1,)) / '(1,)type'.\n",
      "  np_resource = np.dtype([(\"resource\", np.ubyte, 1)])\n",
      "/home/vicentecipre/miniconda3/envs/prueba/lib/python3.7/site-packages/tensorboard/compat/tensorflow_stub/dtypes.py:541: FutureWarning: Passing (type, 1) or '1type' as a synonym of type is deprecated; in a future version of numpy, it will be understood as (type, (1,)) / '(1,)type'.\n",
      "  _np_qint8 = np.dtype([(\"qint8\", np.int8, 1)])\n",
      "/home/vicentecipre/miniconda3/envs/prueba/lib/python3.7/site-packages/tensorboard/compat/tensorflow_stub/dtypes.py:542: FutureWarning: Passing (type, 1) or '1type' as a synonym of type is deprecated; in a future version of numpy, it will be understood as (type, (1,)) / '(1,)type'.\n",
      "  _np_quint8 = np.dtype([(\"quint8\", np.uint8, 1)])\n",
      "/home/vicentecipre/miniconda3/envs/prueba/lib/python3.7/site-packages/tensorboard/compat/tensorflow_stub/dtypes.py:543: FutureWarning: Passing (type, 1) or '1type' as a synonym of type is deprecated; in a future version of numpy, it will be understood as (type, (1,)) / '(1,)type'.\n",
      "  _np_qint16 = np.dtype([(\"qint16\", np.int16, 1)])\n",
      "/home/vicentecipre/miniconda3/envs/prueba/lib/python3.7/site-packages/tensorboard/compat/tensorflow_stub/dtypes.py:544: FutureWarning: Passing (type, 1) or '1type' as a synonym of type is deprecated; in a future version of numpy, it will be understood as (type, (1,)) / '(1,)type'.\n",
      "  _np_quint16 = np.dtype([(\"quint16\", np.uint16, 1)])\n",
      "/home/vicentecipre/miniconda3/envs/prueba/lib/python3.7/site-packages/tensorboard/compat/tensorflow_stub/dtypes.py:545: FutureWarning: Passing (type, 1) or '1type' as a synonym of type is deprecated; in a future version of numpy, it will be understood as (type, (1,)) / '(1,)type'.\n",
      "  _np_qint32 = np.dtype([(\"qint32\", np.int32, 1)])\n",
      "/home/vicentecipre/miniconda3/envs/prueba/lib/python3.7/site-packages/tensorboard/compat/tensorflow_stub/dtypes.py:550: FutureWarning: Passing (type, 1) or '1type' as a synonym of type is deprecated; in a future version of numpy, it will be understood as (type, (1,)) / '(1,)type'.\n",
      "  np_resource = np.dtype([(\"resource\", np.ubyte, 1)])\n"
     ]
    }
   ],
   "source": [
    "import tensorflow as tf\n",
    "from sklearn.datasets import load_breast_cancer"
   ]
  },
  {
   "cell_type": "code",
   "execution_count": 2,
   "metadata": {},
   "outputs": [
    {
     "data": {
      "text/plain": [
       "array([1.799e+01, 1.038e+01, 1.228e+02, 1.001e+03, 1.184e-01, 2.776e-01,\n",
       "       3.001e-01, 1.471e-01, 2.419e-01, 7.871e-02, 1.095e+00, 9.053e-01,\n",
       "       8.589e+00, 1.534e+02, 6.399e-03, 4.904e-02, 5.373e-02, 1.587e-02,\n",
       "       3.003e-02, 6.193e-03, 2.538e+01, 1.733e+01, 1.846e+02, 2.019e+03,\n",
       "       1.622e-01, 6.656e-01, 7.119e-01, 2.654e-01, 4.601e-01, 1.189e-01])"
      ]
     },
     "execution_count": 2,
     "metadata": {},
     "output_type": "execute_result"
    }
   ],
   "source": [
    "data = load_breast_cancer()\n",
    "data[\"data\"][0]"
   ]
  },
  {
   "cell_type": "code",
   "execution_count": 3,
   "metadata": {},
   "outputs": [
    {
     "data": {
      "text/plain": [
       "sklearn.utils.Bunch"
      ]
     },
     "execution_count": 3,
     "metadata": {},
     "output_type": "execute_result"
    }
   ],
   "source": [
    "type(data)"
   ]
  },
  {
   "cell_type": "code",
   "execution_count": 4,
   "metadata": {},
   "outputs": [
    {
     "data": {
      "text/plain": [
       "dict_keys(['data', 'target', 'target_names', 'DESCR', 'feature_names', 'filename'])"
      ]
     },
     "execution_count": 4,
     "metadata": {},
     "output_type": "execute_result"
    }
   ],
   "source": [
    "data.keys()"
   ]
  },
  {
   "cell_type": "code",
   "execution_count": 5,
   "metadata": {},
   "outputs": [
    {
     "name": "stdout",
     "output_type": "stream",
     "text": [
      "las dimensiones del conjunto son:  (569, 30)\n",
      "los posibles balores son:  ['malignant' 'benign']\n",
      "las clases estan repartidas de la siguiente manera:  {'0': 212, '1': 357}\n",
      "['mean radius' 'mean texture' 'mean perimeter' 'mean area'\n",
      " 'mean smoothness' 'mean compactness' 'mean concavity'\n",
      " 'mean concave points' 'mean symmetry' 'mean fractal dimension'\n",
      " 'radius error' 'texture error' 'perimeter error' 'area error'\n",
      " 'smoothness error' 'compactness error' 'concavity error'\n",
      " 'concave points error' 'symmetry error' 'fractal dimension error'\n",
      " 'worst radius' 'worst texture' 'worst perimeter' 'worst area'\n",
      " 'worst smoothness' 'worst compactness' 'worst concavity'\n",
      " 'worst concave points' 'worst symmetry' 'worst fractal dimension']\n"
     ]
    }
   ],
   "source": [
    "print(\"las dimensiones del conjunto son: \",data.data.shape)\n",
    "print(\"los posibles balores son: \",data.target_names)\n",
    "dic = {\"0\":sum(data.target==0),\"1\":sum(data.target==1)}\n",
    "print(\"las clases estan repartidas de la siguiente manera: \",dic)\n",
    "print(data.feature_names)"
   ]
  },
  {
   "cell_type": "code",
   "execution_count": 20,
   "metadata": {},
   "outputs": [],
   "source": [
    "from sklearn.model_selection import train_test_split\n",
    "from sklearn.preprocessing import StandardScaler\n",
    "\n",
    "X_train, X_test, y_train, y_test = train_test_split(data.data, data.target, test_size=1/3)\n",
    "N,D = X_train.shape"
   ]
  },
  {
   "cell_type": "code",
   "execution_count": 21,
   "metadata": {},
   "outputs": [],
   "source": [
    "scaler = StandardScaler()\n",
    "X_train = scaler.fit_transform(X_train)\n",
    "X_test = scaler.transform(X_test)"
   ]
  },
  {
   "cell_type": "code",
   "execution_count": 26,
   "metadata": {},
   "outputs": [
    {
     "name": "stdout",
     "output_type": "stream",
     "text": [
      "Train on 379 samples, validate on 190 samples\n",
      "Epoch 1/100\n",
      "379/379 [==============================] - 0s 583us/sample - loss: 0.8237 - accuracy: 0.4512 - val_loss: 0.7730 - val_accuracy: 0.5105\n",
      "Epoch 2/100\n",
      "379/379 [==============================] - 0s 83us/sample - loss: 0.7368 - accuracy: 0.5541 - val_loss: 0.6881 - val_accuracy: 0.6474\n",
      "Epoch 3/100\n",
      "379/379 [==============================] - 0s 74us/sample - loss: 0.6604 - accuracy: 0.6385 - val_loss: 0.6164 - val_accuracy: 0.7053\n",
      "Epoch 4/100\n",
      "379/379 [==============================] - 0s 78us/sample - loss: 0.5954 - accuracy: 0.7124 - val_loss: 0.5560 - val_accuracy: 0.7579\n",
      "Epoch 5/100\n",
      "379/379 [==============================] - 0s 68us/sample - loss: 0.5421 - accuracy: 0.7810 - val_loss: 0.5053 - val_accuracy: 0.8158\n",
      "Epoch 6/100\n",
      "379/379 [==============================] - 0s 122us/sample - loss: 0.4962 - accuracy: 0.8206 - val_loss: 0.4636 - val_accuracy: 0.8474\n",
      "Epoch 7/100\n",
      "379/379 [==============================] - 0s 101us/sample - loss: 0.4570 - accuracy: 0.8496 - val_loss: 0.4293 - val_accuracy: 0.8632\n",
      "Epoch 8/100\n",
      "379/379 [==============================] - 0s 78us/sample - loss: 0.4242 - accuracy: 0.8707 - val_loss: 0.4007 - val_accuracy: 0.8684\n",
      "Epoch 9/100\n",
      "379/379 [==============================] - 0s 76us/sample - loss: 0.3968 - accuracy: 0.8813 - val_loss: 0.3758 - val_accuracy: 0.8895\n",
      "Epoch 10/100\n",
      "379/379 [==============================] - 0s 82us/sample - loss: 0.3727 - accuracy: 0.8971 - val_loss: 0.3546 - val_accuracy: 0.8947\n",
      "Epoch 11/100\n",
      "379/379 [==============================] - 0s 71us/sample - loss: 0.3522 - accuracy: 0.9050 - val_loss: 0.3358 - val_accuracy: 0.9105\n",
      "Epoch 12/100\n",
      "379/379 [==============================] - 0s 78us/sample - loss: 0.3336 - accuracy: 0.9182 - val_loss: 0.3200 - val_accuracy: 0.9105\n",
      "Epoch 13/100\n",
      "379/379 [==============================] - 0s 86us/sample - loss: 0.3179 - accuracy: 0.9182 - val_loss: 0.3056 - val_accuracy: 0.9105\n",
      "Epoch 14/100\n",
      "379/379 [==============================] - 0s 65us/sample - loss: 0.3034 - accuracy: 0.9208 - val_loss: 0.2931 - val_accuracy: 0.9211\n",
      "Epoch 15/100\n",
      "379/379 [==============================] - 0s 74us/sample - loss: 0.2908 - accuracy: 0.9288 - val_loss: 0.2818 - val_accuracy: 0.9211\n",
      "Epoch 16/100\n",
      "379/379 [==============================] - 0s 74us/sample - loss: 0.2790 - accuracy: 0.9314 - val_loss: 0.2717 - val_accuracy: 0.9263\n",
      "Epoch 17/100\n",
      "379/379 [==============================] - 0s 70us/sample - loss: 0.2689 - accuracy: 0.9340 - val_loss: 0.2622 - val_accuracy: 0.9211\n",
      "Epoch 18/100\n",
      "379/379 [==============================] - 0s 78us/sample - loss: 0.2590 - accuracy: 0.9340 - val_loss: 0.2538 - val_accuracy: 0.9316\n",
      "Epoch 19/100\n",
      "379/379 [==============================] - 0s 76us/sample - loss: 0.2504 - accuracy: 0.9340 - val_loss: 0.2460 - val_accuracy: 0.9263\n",
      "Epoch 20/100\n",
      "379/379 [==============================] - 0s 81us/sample - loss: 0.2423 - accuracy: 0.9367 - val_loss: 0.2389 - val_accuracy: 0.9368\n",
      "Epoch 21/100\n",
      "379/379 [==============================] - 0s 72us/sample - loss: 0.2348 - accuracy: 0.9367 - val_loss: 0.2322 - val_accuracy: 0.9316\n",
      "Epoch 22/100\n",
      "379/379 [==============================] - 0s 72us/sample - loss: 0.2280 - accuracy: 0.9393 - val_loss: 0.2262 - val_accuracy: 0.9368\n",
      "Epoch 23/100\n",
      "379/379 [==============================] - 0s 77us/sample - loss: 0.2215 - accuracy: 0.9393 - val_loss: 0.2205 - val_accuracy: 0.9474\n",
      "Epoch 24/100\n",
      "379/379 [==============================] - 0s 79us/sample - loss: 0.2154 - accuracy: 0.9420 - val_loss: 0.2153 - val_accuracy: 0.9526\n",
      "Epoch 25/100\n",
      "379/379 [==============================] - 0s 71us/sample - loss: 0.2098 - accuracy: 0.9472 - val_loss: 0.2105 - val_accuracy: 0.9526\n",
      "Epoch 26/100\n",
      "379/379 [==============================] - 0s 75us/sample - loss: 0.2045 - accuracy: 0.9472 - val_loss: 0.2060 - val_accuracy: 0.9526\n",
      "Epoch 27/100\n",
      "379/379 [==============================] - 0s 82us/sample - loss: 0.1996 - accuracy: 0.9472 - val_loss: 0.2017 - val_accuracy: 0.9526\n",
      "Epoch 28/100\n",
      "379/379 [==============================] - 0s 70us/sample - loss: 0.1950 - accuracy: 0.9472 - val_loss: 0.1977 - val_accuracy: 0.9526\n",
      "Epoch 29/100\n",
      "379/379 [==============================] - 0s 73us/sample - loss: 0.1905 - accuracy: 0.9499 - val_loss: 0.1940 - val_accuracy: 0.9526\n",
      "Epoch 30/100\n",
      "379/379 [==============================] - 0s 78us/sample - loss: 0.1863 - accuracy: 0.9499 - val_loss: 0.1906 - val_accuracy: 0.9579\n",
      "Epoch 31/100\n",
      "379/379 [==============================] - 0s 124us/sample - loss: 0.1825 - accuracy: 0.9499 - val_loss: 0.1872 - val_accuracy: 0.9579\n",
      "Epoch 32/100\n",
      "379/379 [==============================] - 0s 134us/sample - loss: 0.1786 - accuracy: 0.9525 - val_loss: 0.1841 - val_accuracy: 0.9579\n",
      "Epoch 33/100\n",
      "379/379 [==============================] - 0s 161us/sample - loss: 0.1751 - accuracy: 0.9525 - val_loss: 0.1812 - val_accuracy: 0.9579\n",
      "Epoch 34/100\n",
      "379/379 [==============================] - 0s 163us/sample - loss: 0.1717 - accuracy: 0.9551 - val_loss: 0.1784 - val_accuracy: 0.9579\n",
      "Epoch 35/100\n",
      "379/379 [==============================] - 0s 171us/sample - loss: 0.1686 - accuracy: 0.9551 - val_loss: 0.1757 - val_accuracy: 0.9579\n",
      "Epoch 36/100\n",
      "379/379 [==============================] - 0s 181us/sample - loss: 0.1655 - accuracy: 0.9551 - val_loss: 0.1732 - val_accuracy: 0.9579\n",
      "Epoch 37/100\n",
      "379/379 [==============================] - 0s 149us/sample - loss: 0.1626 - accuracy: 0.9578 - val_loss: 0.1708 - val_accuracy: 0.9579\n",
      "Epoch 38/100\n",
      "379/379 [==============================] - 0s 126us/sample - loss: 0.1598 - accuracy: 0.9578 - val_loss: 0.1685 - val_accuracy: 0.9579\n",
      "Epoch 39/100\n",
      "379/379 [==============================] - 0s 113us/sample - loss: 0.1571 - accuracy: 0.9604 - val_loss: 0.1664 - val_accuracy: 0.9579\n",
      "Epoch 40/100\n",
      "379/379 [==============================] - 0s 120us/sample - loss: 0.1546 - accuracy: 0.9604 - val_loss: 0.1643 - val_accuracy: 0.9579\n",
      "Epoch 41/100\n",
      "379/379 [==============================] - 0s 96us/sample - loss: 0.1522 - accuracy: 0.9604 - val_loss: 0.1624 - val_accuracy: 0.9579\n",
      "Epoch 42/100\n",
      "379/379 [==============================] - 0s 76us/sample - loss: 0.1498 - accuracy: 0.9604 - val_loss: 0.1605 - val_accuracy: 0.9632\n",
      "Epoch 43/100\n",
      "379/379 [==============================] - 0s 74us/sample - loss: 0.1475 - accuracy: 0.9604 - val_loss: 0.1587 - val_accuracy: 0.9632\n",
      "Epoch 44/100\n",
      "379/379 [==============================] - 0s 95us/sample - loss: 0.1454 - accuracy: 0.9604 - val_loss: 0.1570 - val_accuracy: 0.9632\n",
      "Epoch 45/100\n",
      "379/379 [==============================] - 0s 72us/sample - loss: 0.1433 - accuracy: 0.9604 - val_loss: 0.1553 - val_accuracy: 0.9632\n",
      "Epoch 46/100\n",
      "379/379 [==============================] - 0s 63us/sample - loss: 0.1414 - accuracy: 0.9604 - val_loss: 0.1537 - val_accuracy: 0.9632\n",
      "Epoch 47/100\n",
      "379/379 [==============================] - 0s 78us/sample - loss: 0.1394 - accuracy: 0.9604 - val_loss: 0.1522 - val_accuracy: 0.9632\n",
      "Epoch 48/100\n",
      "379/379 [==============================] - 0s 99us/sample - loss: 0.1376 - accuracy: 0.9604 - val_loss: 0.1508 - val_accuracy: 0.9632\n",
      "Epoch 49/100\n",
      "379/379 [==============================] - 0s 103us/sample - loss: 0.1359 - accuracy: 0.9604 - val_loss: 0.1494 - val_accuracy: 0.9632\n",
      "Epoch 50/100\n",
      "379/379 [==============================] - 0s 101us/sample - loss: 0.1341 - accuracy: 0.9604 - val_loss: 0.1481 - val_accuracy: 0.9632\n",
      "Epoch 51/100\n",
      "379/379 [==============================] - 0s 78us/sample - loss: 0.1324 - accuracy: 0.9604 - val_loss: 0.1468 - val_accuracy: 0.9632\n",
      "Epoch 52/100\n",
      "379/379 [==============================] - 0s 76us/sample - loss: 0.1308 - accuracy: 0.9604 - val_loss: 0.1455 - val_accuracy: 0.9632\n",
      "Epoch 53/100\n",
      "379/379 [==============================] - 0s 86us/sample - loss: 0.1292 - accuracy: 0.9604 - val_loss: 0.1443 - val_accuracy: 0.9632\n",
      "Epoch 54/100\n",
      "379/379 [==============================] - 0s 69us/sample - loss: 0.1277 - accuracy: 0.9604 - val_loss: 0.1432 - val_accuracy: 0.9632\n",
      "Epoch 55/100\n",
      "379/379 [==============================] - 0s 74us/sample - loss: 0.1263 - accuracy: 0.9631 - val_loss: 0.1421 - val_accuracy: 0.9632\n",
      "Epoch 56/100\n",
      "379/379 [==============================] - 0s 86us/sample - loss: 0.1249 - accuracy: 0.9631 - val_loss: 0.1410 - val_accuracy: 0.9632\n",
      "Epoch 57/100\n",
      "379/379 [==============================] - 0s 66us/sample - loss: 0.1235 - accuracy: 0.9631 - val_loss: 0.1400 - val_accuracy: 0.9632\n",
      "Epoch 58/100\n",
      "379/379 [==============================] - 0s 77us/sample - loss: 0.1222 - accuracy: 0.9657 - val_loss: 0.1390 - val_accuracy: 0.9632\n",
      "Epoch 59/100\n",
      "379/379 [==============================] - 0s 69us/sample - loss: 0.1209 - accuracy: 0.9657 - val_loss: 0.1380 - val_accuracy: 0.9632\n",
      "Epoch 60/100\n",
      "379/379 [==============================] - 0s 86us/sample - loss: 0.1196 - accuracy: 0.9657 - val_loss: 0.1371 - val_accuracy: 0.9632\n",
      "Epoch 61/100\n",
      "379/379 [==============================] - 0s 74us/sample - loss: 0.1184 - accuracy: 0.9657 - val_loss: 0.1362 - val_accuracy: 0.9632\n",
      "Epoch 62/100\n",
      "379/379 [==============================] - 0s 74us/sample - loss: 0.1173 - accuracy: 0.9657 - val_loss: 0.1353 - val_accuracy: 0.9632\n",
      "Epoch 63/100\n",
      "379/379 [==============================] - 0s 86us/sample - loss: 0.1161 - accuracy: 0.9657 - val_loss: 0.1345 - val_accuracy: 0.9632\n",
      "Epoch 64/100\n",
      "379/379 [==============================] - 0s 98us/sample - loss: 0.1150 - accuracy: 0.9683 - val_loss: 0.1336 - val_accuracy: 0.9632\n",
      "Epoch 65/100\n",
      "379/379 [==============================] - 0s 94us/sample - loss: 0.1139 - accuracy: 0.9683 - val_loss: 0.1329 - val_accuracy: 0.9632\n",
      "Epoch 66/100\n",
      "379/379 [==============================] - 0s 69us/sample - loss: 0.1129 - accuracy: 0.9710 - val_loss: 0.1321 - val_accuracy: 0.9632\n",
      "Epoch 67/100\n",
      "379/379 [==============================] - 0s 73us/sample - loss: 0.1118 - accuracy: 0.9710 - val_loss: 0.1314 - val_accuracy: 0.9632\n",
      "Epoch 68/100\n",
      "379/379 [==============================] - 0s 66us/sample - loss: 0.1109 - accuracy: 0.9710 - val_loss: 0.1307 - val_accuracy: 0.9632\n",
      "Epoch 69/100\n",
      "379/379 [==============================] - 0s 62us/sample - loss: 0.1099 - accuracy: 0.9710 - val_loss: 0.1300 - val_accuracy: 0.9632\n",
      "Epoch 70/100\n",
      "379/379 [==============================] - 0s 69us/sample - loss: 0.1089 - accuracy: 0.9710 - val_loss: 0.1293 - val_accuracy: 0.9632\n",
      "Epoch 71/100\n",
      "379/379 [==============================] - 0s 67us/sample - loss: 0.1080 - accuracy: 0.9710 - val_loss: 0.1286 - val_accuracy: 0.9632\n",
      "Epoch 72/100\n",
      "379/379 [==============================] - 0s 64us/sample - loss: 0.1071 - accuracy: 0.9710 - val_loss: 0.1280 - val_accuracy: 0.9632\n",
      "Epoch 73/100\n",
      "379/379 [==============================] - 0s 65us/sample - loss: 0.1062 - accuracy: 0.9710 - val_loss: 0.1274 - val_accuracy: 0.9632\n",
      "Epoch 74/100\n",
      "379/379 [==============================] - 0s 66us/sample - loss: 0.1053 - accuracy: 0.9710 - val_loss: 0.1268 - val_accuracy: 0.9632\n",
      "Epoch 75/100\n",
      "379/379 [==============================] - 0s 66us/sample - loss: 0.1045 - accuracy: 0.9710 - val_loss: 0.1262 - val_accuracy: 0.9632\n",
      "Epoch 76/100\n",
      "379/379 [==============================] - 0s 94us/sample - loss: 0.1037 - accuracy: 0.9710 - val_loss: 0.1256 - val_accuracy: 0.9632\n",
      "Epoch 77/100\n",
      "379/379 [==============================] - 0s 81us/sample - loss: 0.1028 - accuracy: 0.9710 - val_loss: 0.1251 - val_accuracy: 0.9632\n",
      "Epoch 78/100\n",
      "379/379 [==============================] - 0s 92us/sample - loss: 0.1020 - accuracy: 0.9710 - val_loss: 0.1245 - val_accuracy: 0.9632\n",
      "Epoch 79/100\n",
      "379/379 [==============================] - 0s 74us/sample - loss: 0.1013 - accuracy: 0.9710 - val_loss: 0.1240 - val_accuracy: 0.9632\n",
      "Epoch 80/100\n",
      "379/379 [==============================] - 0s 94us/sample - loss: 0.1005 - accuracy: 0.9710 - val_loss: 0.1235 - val_accuracy: 0.9632\n",
      "Epoch 81/100\n",
      "379/379 [==============================] - 0s 79us/sample - loss: 0.0997 - accuracy: 0.9710 - val_loss: 0.1230 - val_accuracy: 0.9632\n",
      "Epoch 82/100\n",
      "379/379 [==============================] - 0s 69us/sample - loss: 0.0990 - accuracy: 0.9710 - val_loss: 0.1225 - val_accuracy: 0.9632\n",
      "Epoch 83/100\n",
      "379/379 [==============================] - 0s 76us/sample - loss: 0.0983 - accuracy: 0.9710 - val_loss: 0.1221 - val_accuracy: 0.9632\n",
      "Epoch 84/100\n",
      "379/379 [==============================] - 0s 75us/sample - loss: 0.0976 - accuracy: 0.9710 - val_loss: 0.1216 - val_accuracy: 0.9632\n",
      "Epoch 85/100\n",
      "379/379 [==============================] - 0s 70us/sample - loss: 0.0969 - accuracy: 0.9710 - val_loss: 0.1211 - val_accuracy: 0.9632\n",
      "Epoch 86/100\n",
      "379/379 [==============================] - 0s 77us/sample - loss: 0.0963 - accuracy: 0.9710 - val_loss: 0.1207 - val_accuracy: 0.9684\n",
      "Epoch 87/100\n",
      "379/379 [==============================] - 0s 74us/sample - loss: 0.0956 - accuracy: 0.9710 - val_loss: 0.1202 - val_accuracy: 0.9737\n",
      "Epoch 88/100\n",
      "379/379 [==============================] - 0s 73us/sample - loss: 0.0950 - accuracy: 0.9710 - val_loss: 0.1198 - val_accuracy: 0.9737\n",
      "Epoch 89/100\n",
      "379/379 [==============================] - 0s 79us/sample - loss: 0.0943 - accuracy: 0.9710 - val_loss: 0.1194 - val_accuracy: 0.9737\n",
      "Epoch 90/100\n",
      "379/379 [==============================] - 0s 82us/sample - loss: 0.0937 - accuracy: 0.9710 - val_loss: 0.1191 - val_accuracy: 0.9737\n",
      "Epoch 91/100\n",
      "379/379 [==============================] - 0s 70us/sample - loss: 0.0931 - accuracy: 0.9710 - val_loss: 0.1186 - val_accuracy: 0.9737\n",
      "Epoch 92/100\n",
      "379/379 [==============================] - 0s 110us/sample - loss: 0.0925 - accuracy: 0.9710 - val_loss: 0.1182 - val_accuracy: 0.9737\n",
      "Epoch 93/100\n",
      "379/379 [==============================] - 0s 135us/sample - loss: 0.0919 - accuracy: 0.9710 - val_loss: 0.1179 - val_accuracy: 0.9737\n",
      "Epoch 94/100\n",
      "379/379 [==============================] - 0s 134us/sample - loss: 0.0913 - accuracy: 0.9736 - val_loss: 0.1175 - val_accuracy: 0.9737\n",
      "Epoch 95/100\n",
      "379/379 [==============================] - 0s 120us/sample - loss: 0.0907 - accuracy: 0.9736 - val_loss: 0.1172 - val_accuracy: 0.9737\n",
      "Epoch 96/100\n",
      "379/379 [==============================] - 0s 143us/sample - loss: 0.0902 - accuracy: 0.9736 - val_loss: 0.1168 - val_accuracy: 0.9737\n",
      "Epoch 97/100\n",
      "379/379 [==============================] - 0s 232us/sample - loss: 0.0896 - accuracy: 0.9736 - val_loss: 0.1164 - val_accuracy: 0.9737\n",
      "Epoch 98/100\n",
      "379/379 [==============================] - 0s 151us/sample - loss: 0.0891 - accuracy: 0.9736 - val_loss: 0.1161 - val_accuracy: 0.9737\n",
      "Epoch 99/100\n",
      "379/379 [==============================] - 0s 160us/sample - loss: 0.0885 - accuracy: 0.9736 - val_loss: 0.1158 - val_accuracy: 0.9737\n",
      "Epoch 100/100\n",
      "379/379 [==============================] - 0s 87us/sample - loss: 0.0880 - accuracy: 0.9736 - val_loss: 0.1155 - val_accuracy: 0.9737\n",
      "379/379 [==============================] - 0s 139us/sample - loss: 0.0877 - accuracy: 0.9736\n",
      "Train score: [0.0877072170651997, 0.97361475]\n",
      "190/190 [==============================] - 0s 64us/sample - loss: 0.1155 - accuracy: 0.9737\n",
      "Test score: [0.11545735589767757, 0.9736842]\n"
     ]
    }
   ],
   "source": [
    "model = tf.keras.models.Sequential([\n",
    "    tf.keras.layers.Input(shape=(D,)),\n",
    "    tf.keras.layers.Dense(1,activation = \"sigmoid\")\n",
    "    ])\n",
    "\n",
    "model.compile(optimizer=\"adam\", loss=\"binary_crossentropy\", metrics=[\"accuracy\"])\n",
    "\n",
    "r = model.fit(X_train,y_train,validation_data=(X_test,y_test), epochs=100)\n",
    "\n",
    "print(\"Train score:\" , model.evaluate(X_train,y_train))\n",
    "print(\"Test score:\" , model.evaluate(X_test,y_test))"
   ]
  },
  {
   "cell_type": "code",
   "execution_count": 27,
   "metadata": {},
   "outputs": [
    {
     "data": {
      "text/plain": [
       "<matplotlib.legend.Legend at 0x7ffaf917c850>"
      ]
     },
     "execution_count": 27,
     "metadata": {},
     "output_type": "execute_result"
    },
    {
     "data": {
      "image/png": "[encoded data removed]",
      "text/plain": [
       "<Figure size 432x288 with 1 Axes>"
      ]
     },
     "metadata": {
      "needs_background": "light"
     },
     "output_type": "display_data"
    }
   ],
   "source": [
    "# Plot what's returned by model.fit()\n",
    "import matplotlib.pyplot as plt\n",
    "plt.plot(r.history['loss'], label='loss')\n",
    "plt.plot(r.history['val_loss'], label='val_loss')\n",
    "plt.legend()"
   ]
  },
  {
   "cell_type": "code",
   "execution_count": 28,
   "metadata": {},
   "outputs": [
    {
     "data": {
      "text/plain": [
       "<matplotlib.legend.Legend at 0x7ffaf90f5f90>"
      ]
     },
     "execution_count": 28,
     "metadata": {},
     "output_type": "execute_result"
    },
    {
     "data": {
      "image/png": "[encoded data removed]",
      "text/plain": [
       "<Figure size 432x288 with 1 Axes>"
      ]
     },
     "metadata": {
      "needs_background": "light"
     },
     "output_type": "display_data"
    }
   ],
   "source": [
    "# Plot the accuracy too\n",
    "plt.plot(r.history['accuracy'], label='acc')\n",
    "plt.plot(r.history['val_accuracy'], label='val_acc')\n",
    "plt.legend()"
   ]
  },
  {
   "cell_type": "markdown",
   "metadata": {},
   "source": [
    "## Evaluación del modelo"
   ]
  },
  {
   "cell_type": "code",
   "execution_count": 32,
   "metadata": {},
   "outputs": [
    {
     "name": "stdout",
     "output_type": "stream",
     "text": [
      "predicciones del modelo con el conjunto X_test:\n",
      " [9.7707236e-01 9.8999166e-01 9.8596442e-01 8.0490375e-01 9.9789864e-01\n",
      " 9.8299122e-01 9.6204221e-01 2.6458263e-02 1.6129017e-04 9.8812479e-01\n",
      " 8.0718780e-01 8.8775587e-01 3.2606721e-04 9.3885142e-01 5.1171488e-01\n",
      " 9.7214293e-01 9.7792113e-01 8.8511348e-01 7.3720813e-03 9.3946540e-01\n",
      " 9.6350908e-05 9.9726200e-01 8.2133877e-01 9.9351043e-01 3.5293955e-01\n",
      " 9.8560619e-01 9.2087686e-03 9.2612422e-01 9.7826374e-01 9.9200225e-01\n",
      " 9.8176253e-01 9.6171367e-01 5.1967663e-01 9.9969065e-01 9.6046358e-01\n",
      " 9.9638009e-01 9.1238457e-01 7.6106727e-01 1.6964376e-03 3.3127779e-01\n",
      " 6.5207481e-04 9.6662426e-01 1.5621752e-02 1.6142368e-02 4.8579136e-01\n",
      " 3.2782555e-07 9.9938422e-01 9.8111272e-01 9.2319727e-01 8.6697996e-01\n",
      " 9.8254240e-01 9.9921280e-01 2.1783590e-02 9.8974395e-01 1.8447340e-03\n",
      " 2.4694306e-01 6.1187744e-03 8.8190961e-01 1.7670989e-03 9.9954927e-01\n",
      " 9.4945693e-01 2.9802322e-08 9.9468589e-01 9.9777210e-01 7.6586246e-01\n",
      " 3.2081252e-01 9.7223270e-01 1.7501265e-02 9.8554587e-01 9.8901939e-01\n",
      " 9.6113551e-01 9.9677396e-01 7.2914100e-01 9.9790847e-01 9.9647224e-01\n",
      " 5.2592158e-04 2.3244295e-01 6.8418413e-02 2.6547909e-04 1.6391277e-06\n",
      " 9.8964036e-01 8.2142782e-01 9.9365890e-01 8.8010949e-01 8.9407933e-01\n",
      " 1.6689301e-06 8.8697296e-01 9.9962562e-01 9.6553636e-01 9.8603952e-01\n",
      " 3.4355640e-02 8.1835628e-02 9.9986005e-01 9.7993487e-01 6.3119549e-01\n",
      " 2.0403862e-03 4.6027347e-01 9.7185361e-01 9.4340229e-01 9.9908483e-01\n",
      " 5.3086877e-03 9.6517801e-04 9.9566936e-01 9.8153746e-01 8.9406967e-08\n",
      " 9.9003446e-01 9.6214700e-01 9.9867362e-01 9.9178118e-01 8.6856449e-01\n",
      " 9.8307455e-01 6.4007193e-02 9.8217392e-01 9.9654543e-01 6.3393652e-02\n",
      " 2.9168129e-03 8.9008713e-01 9.9583554e-01 4.0254593e-03 1.9890875e-01\n",
      " 9.9459022e-01 1.8715858e-05 2.0145872e-01 9.9807978e-01 9.1964513e-01\n",
      " 9.9449539e-01 9.9797237e-01 1.8096334e-01 8.9169252e-01 9.7186208e-01\n",
      " 9.5841300e-01 9.9504662e-01 2.0431280e-03 2.1817386e-03 9.8774236e-01\n",
      " 7.2535932e-02 9.8255372e-01 9.9296808e-01 8.9172637e-01 7.5722039e-03\n",
      " 5.5617094e-04 9.1088015e-01 9.8019838e-05 9.9776495e-01 9.4313002e-01\n",
      " 9.8149097e-01 9.9403578e-01 1.0708028e-01 9.9042332e-01 9.7012448e-01\n",
      " 9.6817648e-01 9.7615993e-01 9.9984181e-01 9.9424279e-01 9.9915457e-01\n",
      " 1.2620091e-03 5.3719223e-02 1.1329353e-03 9.7563291e-01 9.8813558e-01\n",
      " 3.8743019e-07 1.1365935e-01 4.3840706e-03 9.9793649e-01 1.7268211e-02\n",
      " 9.9797881e-01 9.9606431e-01 9.9969709e-01 9.9651468e-01 9.9951178e-01\n",
      " 9.5894903e-01 7.8243589e-01 3.1203032e-05 9.9083054e-01 8.1835914e-01\n",
      " 3.0636787e-04 6.2568486e-03 9.4777071e-01 1.9257367e-03 9.4924545e-01\n",
      " 9.8975080e-01 9.9895298e-01 9.8087454e-01 9.9611861e-01 3.8056859e-07\n",
      " 0.0000000e+00 2.4953622e-01 8.2436454e-01 6.5726606e-05 9.9963248e-01]\n"
     ]
    }
   ],
   "source": [
    "P = model.predict(X_test)\n",
    "print(\"predicciones del modelo con el conjunto X_test:\\n\",P.flatten()) "
   ]
  },
  {
   "cell_type": "code",
   "execution_count": 36,
   "metadata": {},
   "outputs": [
    {
     "name": "stdout",
     "output_type": "stream",
     "text": [
      "valor asociado a cada prediccion: \n",
      " [1. 1. 1. 1. 1. 1. 1. 0. 0. 1. 1. 1. 0. 1. 1. 1. 1. 1. 0. 1. 0. 1. 1. 1.\n",
      " 0. 1. 0. 1. 1. 1. 1. 1. 1. 1. 1. 1. 1. 1. 0. 0. 0. 1. 0. 0. 0. 0. 1. 1.\n",
      " 1. 1. 1. 1. 0. 1. 0. 0. 0. 1. 0. 1. 1. 0. 1. 1. 1. 0. 1. 0. 1. 1. 1. 1.\n",
      " 1. 1. 1. 0. 0. 0. 0. 0. 1. 1. 1. 1. 1. 0. 1. 1. 1. 1. 0. 0. 1. 1. 1. 0.\n",
      " 0. 1. 1. 1. 0. 0. 1. 1. 0. 1. 1. 1. 1. 1. 1. 0. 1. 1. 0. 0. 1. 1. 0. 0.\n",
      " 1. 0. 0. 1. 1. 1. 1. 0. 1. 1. 1. 1. 0. 0. 1. 0. 1. 1. 1. 0. 0. 1. 0. 1.\n",
      " 1. 1. 1. 0. 1. 1. 1. 1. 1. 1. 1. 0. 0. 0. 1. 1. 0. 0. 0. 1. 0. 1. 1. 1.\n",
      " 1. 1. 1. 1. 0. 1. 1. 0. 0. 1. 0. 1. 1. 1. 1. 1. 0. 0. 0. 1. 0. 1.]\n",
      "accuracy calculado a mano: 0.9736842105263158\n",
      "190/190 [==============================] - 0s 43us/sample - loss: 0.1155 - accuracy: 0.9737\n",
      "accuracy evaluado por el modelo: 0.9736842\n",
      "loss evaluado por el modelo: 0.11545735589767757\n"
     ]
    }
   ],
   "source": [
    "import numpy as np\n",
    "P = np.round(P).flatten()\n",
    "print(\"valor asociado a cada prediccion: \\n\",P)\n",
    "print(\"accuracy calculado a mano:\", np.mean(P == y_test))\n",
    "evaluación= model.evaluate(X_test, y_test)\n",
    "print(\"accuracy evaluado por el modelo:\", evaluación[1] )\n",
    "print(\"loss evaluado por el modelo:\", evaluación[0] )"
   ]
  },
  {
   "cell_type": "markdown",
   "metadata": {},
   "source": [
    "## Guardando un modelo"
   ]
  },
  {
   "cell_type": "code",
   "execution_count": null,
   "metadata": {},
   "outputs": [],
   "source": [
    "model.save('linearclassifier.h5')"
   ]
  },
  {
   "cell_type": "code",
   "execution_count": 1,
   "metadata": {},
   "outputs": [
    {
     "name": "stdout",
     "output_type": "stream",
     "text": [
      "total 164K\r\n",
      "-rw-r--r-- 1 vicentecipre vicentecipre  60K ene 21 11:49 'Linear Classification.ipynb'\r\n",
      "-rw-rw-r-- 1 vicentecipre vicentecipre    0 ene 19 13:32 'Linear Classification.py'\r\n",
      "-rw-r--r-- 1 vicentecipre vicentecipre  95K ene 20 16:32 'Linear regression.ipynb'\r\n",
      "-rw-r--r-- 1 vicentecipre vicentecipre 2,3K ene 20 13:22  moore.csv\r\n",
      "-rw-r--r-- 1 vicentecipre vicentecipre 2,3K ene 20 13:31  moore.csv.1\r\n"
     ]
    }
   ],
   "source": [
    "# Check that the model file exists\n",
    "!ls -lh "
   ]
  },
  {
   "cell_type": "code",
   "execution_count": null,
   "metadata": {},
   "outputs": [],
   "source": [
    "# Let's load the model and confirm that it still works\n",
    "# Note: there is a bug in Keras where load/save only works if you DON'T use the Input() layer explicitly\n",
    "# So, make sure you define the model with ONLY Dense(1, input_shape=(D,))\n",
    "# At least, until the bug is fixed\n",
    "# https://github.com/keras-team/keras/issues/10417\n",
    "model = tf.keras.models.load_model('linearclassifier.h5')\n",
    "print(model.layers)\n",
    "model.evaluate(X_test, y_test)"
   ]
  },
  {
   "cell_type": "code",
   "execution_count": null,
   "metadata": {},
   "outputs": [],
   "source": [
    "# Esto para google colab \n",
    "# Download the file - requires Chrome (at this point)\n",
    "# from google.colab import files\n",
    "# files.download('linearclassifier.h5')"
   ]
  }
 ],
 "metadata": {
  "kernelspec": {
   "display_name": "Python 3",
   "language": "python",
   "name": "python3"
  },
  "language_info": {
   "codemirror_mode": {
    "name": "ipython",
    "version": 3
   },
   "file_extension": ".py",
   "mimetype": "text/x-python",
   "name": "python",
   "nbconvert_exporter": "python",
   "pygments_lexer": "ipython3",
   "version": "3.7.4"
  }
 },
 "nbformat": 4,
 "nbformat_minor": 2
}
